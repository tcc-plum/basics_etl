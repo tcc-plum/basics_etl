{
 "cells": [
  {
   "cell_type": "markdown",
   "metadata": {},
   "source": [
    "### Libraries\n",
    "\n",
    "#### pip install face_recognition -> Matching images (first is needed to install CMake and dlib by running: pip install CMake, pip install dlib)"
   ]
  },
  {
   "cell_type": "code",
   "execution_count": null,
   "metadata": {},
   "outputs": [],
   "source": [
    "import face_recognition as fr"
   ]
  },
  {
   "cell_type": "code",
   "execution_count": null,
   "metadata": {},
   "outputs": [],
   "source": [
    "known_image = fr.load_image_file(\"./img/teste1.jpg\")\n",
    "unknown_image = fr.load_image_file(\"./img/teste2.jpg\")\n",
    " \n",
    "biden_encoding = fr.face_encodings(known_image)[0]\n",
    "unknown_encoding = fr.face_encodings(unknown_image)[0]\n",
    " \n",
    "results = fr.compare_faces([biden_encoding], unknown_encoding)\n",
    "results"
   ]
  },
  {
   "cell_type": "code",
   "execution_count": null,
   "metadata": {},
   "outputs": [],
   "source": [
    "# imagem 1\n",
    "from PIL import Image, ImageFile\n",
    "import numpy as np\n",
    "\n",
    "image = Image.open('./img/teste1.jpg')\n",
    "image = image.convert(mode='RGB')\n",
    "vetor = np.array(image)\n",
    "vetor[0]"
   ]
  },
  {
   "cell_type": "code",
   "execution_count": null,
   "metadata": {},
   "outputs": [],
   "source": [
    "# imagem 2\n",
    "image2 = Image.open('./img/teste2.jpg')\n",
    "image2 = image2.convert(mode='RGB')\n",
    "vetor2 = np.array(image2)\n",
    "vetor2[0]"
   ]
  },
  {
   "cell_type": "code",
   "execution_count": null,
   "metadata": {},
   "outputs": [],
   "source": [
    "# compare\n",
    "def face_distance(face_encodings, face_to_compare):\n",
    "    if len(face_encodings) == 0:\n",
    "        return np.empty((0))\n",
    "    \n",
    "    print(1- np.linalg.norm(face_encodings - face_to_compare, axis=1))\n",
    "    return np.linalg.norm(face_encodings - face_to_compare, axis=1)\n",
    "\n",
    "def compare_faces(known_face_encodings, face_encoding_to_check, tolerance=0.6):\n",
    "    return list(face_distance(known_face_encodings, face_encoding_to_check) <= tolerance)\n",
    "\n",
    "compare_faces([biden_encoding], unknown_encoding)"
   ]
  },
  {
   "cell_type": "code",
   "execution_count": null,
   "metadata": {},
   "outputs": [],
   "source": [
    "\n",
    "for i in list(range(1,6)):\n",
    "    for j in list(range(1,6)):\n",
    "        known_image = fr.load_image_file(\"./img/\" + str(i) + \".jpg\")\n",
    "        unknown_image = fr.load_image_file(\"./img/\"+str(j)+\".jpg\")\n",
    "        \n",
    "        biden_encoding = fr.face_encodings(known_image)[0]\n",
    "        unknown_encoding = fr.face_encodings(unknown_image)[0]\n",
    "        print(\"valor de i {}, valor de j {}\".format(i,j))\n",
    "        print(compare_faces([biden_encoding], unknown_encoding))"
   ]
  },
  {
   "cell_type": "code",
   "execution_count": null,
   "metadata": {},
   "outputs": [],
   "source": []
  }
 ],
 "metadata": {
  "kernelspec": {
   "display_name": "Python 3",
   "language": "python",
   "name": "python3"
  },
  "language_info": {
   "codemirror_mode": {
    "name": "ipython",
    "version": 3
   },
   "file_extension": ".py",
   "mimetype": "text/x-python",
   "name": "python",
   "nbconvert_exporter": "python",
   "pygments_lexer": "ipython3",
   "version": "3.6.5"
  }
 },
 "nbformat": 4,
 "nbformat_minor": 2
}
